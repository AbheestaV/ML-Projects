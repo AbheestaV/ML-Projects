{
 "cells": [
  {
   "cell_type": "markdown",
   "id": "handed-prior",
   "metadata": {},
   "source": [
    "# Python Lab Week 5"
   ]
  },
  {
   "cell_type": "markdown",
   "id": "2edea7de",
   "metadata": {},
   "source": [
    "### 1. Write a function that adds up all elements in a list of integers"
   ]
  },
  {
   "cell_type": "code",
   "execution_count": 1,
   "id": "1d737f6e",
   "metadata": {},
   "outputs": [
    {
     "name": "stdout",
     "output_type": "stream",
     "text": [
      "55\n"
     ]
    }
   ],
   "source": [
    "def counter():\n",
    "    s = 0\n",
    "    a = [1, 2, 3, 4, 5, 6, 7, 8, 9, 10]\n",
    "    for i in a:\n",
    "        s += i\n",
    "    print(s)\n",
    "\n",
    "\n",
    "counter()"
   ]
  },
  {
   "cell_type": "markdown",
   "id": "138438fd",
   "metadata": {},
   "source": [
    "### 2. Write a function that adds up all elements in a list of lists of integers, e.g. `[[2,4],[0,5,9]]`"
   ]
  },
  {
   "cell_type": "code",
   "execution_count": 2,
   "id": "certain-uganda",
   "metadata": {},
   "outputs": [
    {
     "name": "stdout",
     "output_type": "stream",
     "text": [
      "20\n"
     ]
    }
   ],
   "source": [
    "def counter2():\n",
    "    s2 = 0\n",
    "    b = [[2, 4], [0, 5, 9]]\n",
    "    for i in b:\n",
    "        for j in i:\n",
    "            s2 += j\n",
    "    print(s2)\n",
    "\n",
    "\n",
    "counter2()"
   ]
  },
  {
   "cell_type": "markdown",
   "id": "9aa46ce2",
   "metadata": {},
   "source": [
    "### 3. Write a function that takes a list of numbers and returns a new list having increased each number by 2."
   ]
  },
  {
   "cell_type": "code",
   "execution_count": 3,
   "id": "moral-advocacy",
   "metadata": {},
   "outputs": [
    {
     "name": "stdout",
     "output_type": "stream",
     "text": [
      "[3, 4, 5, 6, 7, 8, 9, 10, 11, 12]\n"
     ]
    }
   ],
   "source": [
    "def increaser(numbers):\n",
    "    new_numbers=[]\n",
    "    for number in numbers:\n",
    "        number += 2\n",
    "        new_numbers.append(number)\n",
    "    return new_numbers\n",
    "\n",
    "print(increaser([1, 2, 3, 4, 5, 6, 7, 8, 9, 10]))"
   ]
  },
  {
   "cell_type": "markdown",
   "id": "12983778",
   "metadata": {},
   "source": [
    "### 4. Here is a list of years of birth for 4 siblings – `[2011, 2008, 2005, 2004]`. Define a function that will return a list of corresponding ages, rather than years of birth.\n"
   ]
  },
  {
   "cell_type": "code",
   "execution_count": 4,
   "id": "1fbd2360",
   "metadata": {},
   "outputs": [
    {
     "name": "stdout",
     "output_type": "stream",
     "text": [
      "[12, 15, 18, 19]\n"
     ]
    }
   ],
   "source": [
    "def age_c(ages):\n",
    "    new_ages = []\n",
    "    for yob in ages:\n",
    "        new_ages.append(2023 - yob)\n",
    "    return new_ages\n",
    "\n",
    "\n",
    "print(age_c([2011, 2008, 2005, 2004]))"
   ]
  },
  {
   "cell_type": "markdown",
   "id": "6d3eef51",
   "metadata": {},
   "source": [
    "### 5. Write a function that will take a short paragraph in the form of a string, and will print out the words that have an even number of letters."
   ]
  },
  {
   "cell_type": "code",
   "execution_count": 5,
   "id": "traditional-developer",
   "metadata": {},
   "outputs": [
    {
     "name": "stdout",
     "output_type": "stream",
     "text": [
      "['over', 'lazy']\n"
     ]
    }
   ],
   "source": [
    "def even_letters(s):\n",
    "    words = []\n",
    "    new_words = []\n",
    "    words = s.split(\" \")\n",
    "    for word in words:\n",
    "        if len(word) % 2 == 0:\n",
    "            new_words.append(word)\n",
    "    return new_words\n",
    "\n",
    "\n",
    "print(even_letters(\"The quick brown fox jumps over the lazy dog\"))\n"
   ]
  },
  {
   "cell_type": "markdown",
   "id": "f7d628f1",
   "metadata": {},
   "source": [
    "### 6. Define a function that will take a paragraph replace any spaces with a comma."
   ]
  },
  {
   "cell_type": "code",
   "execution_count": 6,
   "id": "cathedral-workshop",
   "metadata": {},
   "outputs": [
    {
     "name": "stdout",
     "output_type": "stream",
     "text": [
      "The,quick,brown,fox,jumps,over,the,lazy,dog.,This,happens,very,often,indeed\n"
     ]
    }
   ],
   "source": [
    "def space_comma(s):\n",
    "    return s.replace(\" \", \",\")\n",
    "\n",
    "\n",
    "print(space_comma(\"The quick brown fox jumps over the lazy dog. This happens very often indeed\"))\n"
   ]
  },
  {
   "cell_type": "markdown",
   "id": "219f2882",
   "metadata": {},
   "source": [
    "### 7. Write a program that prompts a user to enter a word. The program then checks if the word is a palindrome. That is – if the word is the same when read forwards and backwards. "
   ]
  },
  {
   "cell_type": "code",
   "execution_count": 7,
   "id": "bearing-affect",
   "metadata": {},
   "outputs": [
    {
     "name": "stdout",
     "output_type": "stream",
     "text": [
      "True\n",
      "False\n"
     ]
    }
   ],
   "source": [
    "def palindromer(s):\n",
    "    if s == s[::-1]:\n",
    "        return \"True\"\n",
    "    else:\n",
    "        return \"False\"\n",
    "\n",
    "\n",
    "print(palindromer(\"malayalam\"))\n",
    "print(palindromer(\"NotPalindrome\"))"
   ]
  },
  {
   "cell_type": "code",
   "execution_count": null,
   "id": "f560cdf0",
   "metadata": {},
   "outputs": [],
   "source": []
  }
 ],
 "metadata": {
  "kernelspec": {
   "display_name": "Python 3 (ipykernel)",
   "language": "python",
   "name": "python3"
  },
  "language_info": {
   "codemirror_mode": {
    "name": "ipython",
    "version": 3
   },
   "file_extension": ".py",
   "mimetype": "text/x-python",
   "name": "python",
   "nbconvert_exporter": "python",
   "pygments_lexer": "ipython3",
   "version": "3.10.9"
  }
 },
 "nbformat": 4,
 "nbformat_minor": 5
}
