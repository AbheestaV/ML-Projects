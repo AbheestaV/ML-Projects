{
 "cells": [
  {
   "cell_type": "markdown",
   "id": "dedicated-input",
   "metadata": {},
   "source": [
    "# Python Lab Week 3"
   ]
  },
  {
   "cell_type": "markdown",
   "id": "potential-maintenance",
   "metadata": {},
   "source": [
    "1. Write a program using variables that will add any two numbers. Assign values  to the variables. Print the result."
   ]
  },
  {
   "cell_type": "code",
   "execution_count": 1,
   "id": "sunrise-lighter",
   "metadata": {},
   "outputs": [
    {
     "name": "stdout",
     "output_type": "stream",
     "text": [
      "Answer 1:  15\n"
     ]
    }
   ],
   "source": [
    "a = 5\n",
    "b = 10\n",
    "\n",
    "print(\"Answer 1: \", (a + b))"
   ]
  },
  {
   "cell_type": "markdown",
   "id": "pediatric-ancient",
   "metadata": {},
   "source": [
    "2. Write a program using variables that will divide any two numbers. Assign values to the variables. Print the result."
   ]
  },
  {
   "cell_type": "code",
   "execution_count": 2,
   "id": "junior-consumer",
   "metadata": {},
   "outputs": [
    {
     "name": "stdout",
     "output_type": "stream",
     "text": [
      "2.0\n"
     ]
    }
   ],
   "source": [
    "\n",
    "print(b/a)"
   ]
  },
  {
   "cell_type": "markdown",
   "id": "consistent-darwin",
   "metadata": {},
   "source": [
    "3. Create 3 variables and assign names of something like people or places to each variable. Write a program to create a meaningful sentence using the 3 variables. "
   ]
  },
  {
   "cell_type": "code",
   "execution_count": 3,
   "id": "electric-process",
   "metadata": {
    "scrolled": true
   },
   "outputs": [
    {
     "name": "stdout",
     "output_type": "stream",
     "text": [
      "Che and Fidel are revolutionaries from Cuba.\n"
     ]
    }
   ],
   "source": [
    "name1 = \"Che\"\n",
    "name2 = \"Fidel\"\n",
    "place = \"Cuba\"\n",
    "s = f\"{name1} and {name2} are revolutionaries from {place}.\"\n",
    "print(s)"
   ]
  },
  {
   "cell_type": "markdown",
   "id": "suitable-debate",
   "metadata": {},
   "source": [
    "4. Write a program that will take a long string of text and print it out, inserting a newline after the first 5 characters."
   ]
  },
  {
   "cell_type": "code",
   "execution_count": 4,
   "id": "interim-mattress",
   "metadata": {},
   "outputs": [
    {
     "name": "stdout",
     "output_type": "stream",
     "text": [
      "Che a\n",
      "nd Fidel are revolutionaries from Cuba.\n"
     ]
    }
   ],
   "source": [
    "print(f\"{s[:5]}\\n{s[5:]}\")"
   ]
  },
  {
   "cell_type": "code",
   "execution_count": null,
   "id": "responsible-server",
   "metadata": {},
   "outputs": [],
   "source": []
  }
 ],
 "metadata": {
  "kernelspec": {
   "display_name": "Python 3 (ipykernel)",
   "language": "python",
   "name": "python3"
  },
  "language_info": {
   "codemirror_mode": {
    "name": "ipython",
    "version": 3
   },
   "file_extension": ".py",
   "mimetype": "text/x-python",
   "name": "python",
   "nbconvert_exporter": "python",
   "pygments_lexer": "ipython3",
   "version": "3.10.9"
  }
 },
 "nbformat": 4,
 "nbformat_minor": 5
}
