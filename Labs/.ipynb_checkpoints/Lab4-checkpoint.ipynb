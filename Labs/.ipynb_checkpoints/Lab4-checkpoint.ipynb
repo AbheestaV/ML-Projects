{
 "cells": [
  {
   "cell_type": "markdown",
   "id": "naughty-superintendent",
   "metadata": {},
   "source": [
    "# Python Lab Week 6"
   ]
  },
  {
   "cell_type": "markdown",
   "id": "mathematical-mileage",
   "metadata": {},
   "source": [
    "## 1. Reading in a file"
   ]
  },
  {
   "cell_type": "code",
   "execution_count": 15,
   "id": "hawaiian-public",
   "metadata": {},
   "outputs": [],
   "source": [
    "with open(r'/home/zod/Documents/Git-Projects/ML-Projects/Labs/aesop-wolf-dog.txt', \"r\") as f:\n",
    "    data = f.read()\n",
    "    data2 = data\n",
    "print(data)"
   ]
  },
  {
   "cell_type": "markdown",
   "id": "thermal-gauge",
   "metadata": {},
   "source": [
    "## 2. Replacing wolf with elephant"
   ]
  },
  {
   "cell_type": "code",
   "execution_count": 17,
   "id": "aerial-calibration",
   "metadata": {},
   "outputs": [
    {
     "name": "stdout",
     "output_type": "stream",
     "text": [
      "THE ELEPHANT, THE DOG AND THE COLLAR\n",
      "\n",
      "A comfortably plump dog happened to run into a wolf. The wolf asked the dog where he had\n",
      "been finding enough food to get so big and fat. 'It is a man,' said the dog, 'who gives me\n",
      "all this food to eat.' The wolf then asked him, 'And what about that bare spot there on\n",
      "your neck?' The dog replied, 'My skin has been rubbed bare by the iron collar which my\n",
      "master forged and placed upon my neck.' The wolf then jeered at the dog and said, 'Keep\n",
      "your luxury to yourself then! I don't want anything to do with it, if my neck will have to\n",
      "chafe against a chain of iron!'\n",
      "\n"
     ]
    }
   ],
   "source": [
    "data = data.replace('wolf', 'elephant')\n",
    "print(data)"
   ]
  },
  {
   "cell_type": "markdown",
   "id": "agricultural-weather",
   "metadata": {},
   "source": [
    "## 3. Print length of file contents"
   ]
  },
  {
   "cell_type": "code",
   "execution_count": 19,
   "id": "smooth-delta",
   "metadata": {},
   "outputs": [
    {
     "name": "stdout",
     "output_type": "stream",
     "text": [
      "620\n"
     ]
    }
   ],
   "source": [
    "print(len(data2))"
   ]
  },
  {
   "cell_type": "markdown",
   "id": "described-jerusalem",
   "metadata": {},
   "source": [
    "## 4. Vowels in the file"
   ]
  },
  {
   "cell_type": "code",
   "execution_count": 28,
   "id": "healthy-separation",
   "metadata": {},
   "outputs": [],
   "source": [
    "vowels = []\n",
    "for i in data2.lower():\n",
    "    if i in ['a', 'e', 'i', 'o', 'u']:\n",
    "        vowels.append(i)\n",
    "\n",
    "print(vowels)"
   ]
  },
  {
   "cell_type": "markdown",
   "id": "black-spring",
   "metadata": {},
   "source": [
    "## 5. Save updated file "
   ]
  },
  {
   "cell_type": "code",
   "execution_count": 11,
   "id": "601ee784",
   "metadata": {},
   "outputs": [],
   "source": [
    "with open(r'aesop-elephant-dog.txt', \"w\") as file:\n",
    "    file.write(data)"
   ]
  }
 ],
 "metadata": {
  "kernelspec": {
   "display_name": "Python 3 (ipykernel)",
   "language": "python",
   "name": "python3"
  },
  "language_info": {
   "codemirror_mode": {
    "name": "ipython",
    "version": 3
   },
   "file_extension": ".py",
   "mimetype": "text/x-python",
   "name": "python",
   "nbconvert_exporter": "python",
   "pygments_lexer": "ipython3",
   "version": "3.10.9"
  }
 },
 "nbformat": 4,
 "nbformat_minor": 5
}
