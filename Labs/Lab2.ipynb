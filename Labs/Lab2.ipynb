{
 "cells": [
  {
   "cell_type": "markdown",
   "id": "handed-prior",
   "metadata": {},
   "source": [
    "# Python Lab Week 4"
   ]
  },
  {
   "cell_type": "markdown",
   "id": "9405e29e",
   "metadata": {},
   "source": [
    "1. Write a program that will print the 4th letter in the word ‘fantastic’"
   ]
  },
  {
   "cell_type": "code",
   "execution_count": 2,
   "id": "determined-conditions",
   "metadata": {},
   "outputs": [
    {
     "name": "stdout",
     "output_type": "stream",
     "text": [
      "t\n"
     ]
    }
   ],
   "source": [
    "print(\"fantastic\"[3])"
   ]
  },
  {
   "cell_type": "markdown",
   "id": "5730cf07",
   "metadata": {},
   "source": [
    "2. Write a program to calculate and print the length of a long piece of string"
   ]
  },
  {
   "cell_type": "code",
   "execution_count": 3,
   "id": "certain-uganda",
   "metadata": {},
   "outputs": [
    {
     "name": "stdout",
     "output_type": "stream",
     "text": [
      "43\n"
     ]
    }
   ],
   "source": [
    "s = \"The quick brown fox jumps over the lazy dog\"\n",
    "print(len(s))"
   ]
  },
  {
   "cell_type": "markdown",
   "id": "f98eddcc",
   "metadata": {},
   "source": [
    "3. Write a program to print the last letter in the word ‘springtime’"
   ]
  },
  {
   "cell_type": "code",
   "execution_count": 7,
   "id": "moral-advocacy",
   "metadata": {},
   "outputs": [
    {
     "name": "stdout",
     "output_type": "stream",
     "text": [
      "e\n"
     ]
    }
   ],
   "source": [
    "s2 = \"springtime\"\n",
    "print(s2[-1])"
   ]
  },
  {
   "cell_type": "markdown",
   "id": "ed9b4fd6",
   "metadata": {},
   "source": [
    "4. This python script will display an error. Fix and run the code – "
   ]
  },
  {
   "cell_type": "code",
   "execution_count": 8,
   "id": "traditional-developer",
   "metadata": {},
   "outputs": [
    {
     "ename": "SyntaxError",
     "evalue": "unterminated string literal (detected at line 3) (438492035.py, line 3)",
     "output_type": "error",
     "traceback": [
      "\u001b[0;36m  Cell \u001b[0;32mIn[8], line 3\u001b[0;36m\u001b[0m\n\u001b[0;31m    print ('Sometimes I don't get the bus to college')\u001b[0m\n\u001b[0m                                                    ^\u001b[0m\n\u001b[0;31mSyntaxError\u001b[0m\u001b[0;31m:\u001b[0m unterminated string literal (detected at line 3)\n"
     ]
    }
   ],
   "source": [
    "# broken:\n",
    "\n",
    "print ('Sometimes I don't get the bus to college')"
   ]
  },
  {
   "cell_type": "code",
   "execution_count": 10,
   "id": "driving-injection",
   "metadata": {},
   "outputs": [
    {
     "name": "stdout",
     "output_type": "stream",
     "text": [
      "Sometimes I don’t get the bus to college\n"
     ]
    }
   ],
   "source": [
    "# fixed:\n",
    "\n",
    "print(\"Sometimes I don’t get the bus to college\")"
   ]
  },
  {
   "cell_type": "markdown",
   "id": "bcc747be",
   "metadata": {},
   "source": [
    "5. Define a function that will take any sentence and if the sentence length is less than 10, it will print the sentence, otherwise it will print `\"this sentence is too long\"`."
   ]
  },
  {
   "cell_type": "code",
   "execution_count": 11,
   "id": "cathedral-workshop",
   "metadata": {},
   "outputs": [],
   "source": [
    "def printer(a):\n",
    "    if len(a) > 10:\n",
    "        print(\"This sentence is too long to print.\")\n",
    "    else:\n",
    "        print(a)"
   ]
  },
  {
   "cell_type": "code",
   "execution_count": 13,
   "id": "random-pocket",
   "metadata": {},
   "outputs": [
    {
     "name": "stdout",
     "output_type": "stream",
     "text": [
      "revolucion\n"
     ]
    }
   ],
   "source": [
    "printer('revolucion')"
   ]
  },
  {
   "cell_type": "code",
   "execution_count": 15,
   "id": "formal-comfort",
   "metadata": {},
   "outputs": [
    {
     "name": "stdout",
     "output_type": "stream",
     "text": [
      "This sentence is too long to print.\n"
     ]
    }
   ],
   "source": [
    "printer('viva la revolucion')"
   ]
  },
  {
   "cell_type": "markdown",
   "id": "c7bd8396",
   "metadata": {},
   "source": [
    "6. Define a function that could be part of a system to alert people to important emails. \n",
    "The function should take a long string of text. It should check whether the word ‘urgent’ \n",
    "in the string. If it is, it should print a message: 'you better look at this email pretty quickly.'\n",
    "If the word ‘urgent’ isn’t in the message, do nothing. "
   ]
  },
  {
   "cell_type": "code",
   "execution_count": 16,
   "id": "bearing-affect",
   "metadata": {},
   "outputs": [],
   "source": [
    "def urgent(b):\n",
    "    if 'urgent' in b:\n",
    "        print(\"you better look at this email pretty quickly\")\n"
   ]
  },
  {
   "cell_type": "code",
   "execution_count": 17,
   "id": "junior-thought",
   "metadata": {},
   "outputs": [],
   "source": [
    "test_1 = 'This email contains an urgent message.'\n",
    "test_2 = 'This email is about bunnies.'"
   ]
  },
  {
   "cell_type": "code",
   "execution_count": 18,
   "id": "noticed-memorial",
   "metadata": {},
   "outputs": [
    {
     "name": "stdout",
     "output_type": "stream",
     "text": [
      "you better look at this email pretty quickly\n"
     ]
    }
   ],
   "source": [
    "urgent(test_1)"
   ]
  },
  {
   "cell_type": "code",
   "execution_count": 19,
   "id": "chronic-advocacy",
   "metadata": {},
   "outputs": [],
   "source": [
    "urgent(test_2) # if nothing happens, the code has worked correctly"
   ]
  },
  {
   "cell_type": "code",
   "execution_count": null,
   "id": "collect-niagara",
   "metadata": {},
   "outputs": [],
   "source": []
  }
 ],
 "metadata": {
  "kernelspec": {
   "display_name": "Python 3 (ipykernel)",
   "language": "python",
   "name": "python3"
  },
  "language_info": {
   "codemirror_mode": {
    "name": "ipython",
    "version": 3
   },
   "file_extension": ".py",
   "mimetype": "text/x-python",
   "name": "python",
   "nbconvert_exporter": "python",
   "pygments_lexer": "ipython3",
   "version": "3.10.9"
  }
 },
 "nbformat": 4,
 "nbformat_minor": 5
}
